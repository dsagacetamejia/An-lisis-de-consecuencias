{
 "cells": [
  {
   "attachments": {},
   "cell_type": "markdown",
   "metadata": {},
   "source": [
    "# Flujo térmico BLEVE \n"
   ]
  },
  {
   "attachments": {},
   "cell_type": "markdown",
   "metadata": {},
   "source": [
    "## Modelo \n",
    "Calcula la radiación que percibe un receptor a cierta distancia del centro de la bola de fuego junto con el tamaño y duración de la bola de fuego.\n",
    "\n",
    "\n",
    "\n"
   ]
  },
  {
   "attachments": {
    "image.png": {
     "image/png": "[encoded data removed]"
    }
   },
   "cell_type": "markdown",
   "metadata": {},
   "source": [
    "![image.png](attachment:image.png)"
   ]
  },
  {
   "attachments": {},
   "cell_type": "markdown",
   "metadata": {},
   "source": [
    "## Variables\n",
    "|Variable|Significado|Unidades|\n",
    "|------|------|------|\n",
    "|M|\t\tMasa inicial\t\t|\tkg|\n",
    "|Pw|\t\tPresión parcial del agua en aire\t\t|\tPa|\n",
    "|R|\t\tFracción de Radiación de combustión\t\t|0.3|\t\n",
    "|L|\t\tDistancia\t\t|\tm|\n",
    "|Hc|\t\tCalor de combustión\t\t|\tkJ/kg|\n",
    "\n",
    "\n",
    "\n",
    "\n",
    "\n",
    "\n"
   ]
  },
  {
   "cell_type": "markdown",
   "metadata": {},
   "source": [
    "## Variables a calcular\n"
   ]
  },
  {
   "attachments": {},
   "cell_type": "markdown",
   "metadata": {},
   "source": [
    "|Variable|Significado|Unidades|\n",
    "|------|------|------|\n",
    "|Dmáx|\t\tDiámetro máx. de la bola de fuego\t\t\t|m|\n",
    "|HBLEVE|\t\tAltura del centro de la bola de fuego\t\t\t|m|\n",
    "|Dinicial\t|\tDiámetro inicial a nivel del suelo\t\t\t|m|\n",
    "|E\t|\tFlux de Radiación emitido\t\t\t|KJ/s m^2 |\n",
    "|F21|\t\tFactor de visión\t||\t\t\n",
    "|ta|\t\tTransmitancia\t\t||\t\n",
    "|Xc|\tDistancia del centro de la  bola al receptor\t\t\t\t|m|\n",
    "|Xs\t|La distancia de la superficie de la flama al receptor\t\t\t\t|m|\n",
    "\n",
    "\n"
   ]
  },
  {
   "cell_type": "markdown",
   "metadata": {},
   "source": [
    "## Incógnitas"
   ]
  },
  {
   "attachments": {},
   "cell_type": "markdown",
   "metadata": {},
   "source": [
    "|Variable|Significado|Unidades|\n",
    "|------|------|------|\n",
    "|tBLEVE|\tDuración de combustión de la bola de fuego\t\t\t|\ts|\n",
    "||Er \t\tFlux de Radiación recibido\t\t\t|W/m^2|"
   ]
  },
  {
   "attachments": {},
   "cell_type": "markdown",
   "metadata": {},
   "source": [
    "### Consideraciones\n",
    "-  Los fragmentos arrastran pequeñas porciones de combustible, que generan la bola de fuego"
   ]
  },
  {
   "cell_type": "markdown",
   "metadata": {},
   "source": [
    "## Desarrollo y ecuaciones"
   ]
  },
  {
   "cell_type": "markdown",
   "metadata": {},
   "source": [
    "Una BLEVE es un tipo de explosión mecánica cuyo nombre procede de sus iniciales en inglés Boiling  Liquid Expanding Vapor Explosion cuya traducción sería \"Expansión explosiva del vapor de un líquido en ebullición\". La BLEVE es un caso especial de estallido catastrófico de un recipiente a presión en el que ocurre un escape súbito a la atmósfera de una gran masa de líquido o gas licuado a presión sobrecalentados. La característica fundamental es la expansión explosiva de toda la masa de líquido evaporada súbitamente, aumentando su volumen. La gran energía desarrollada en esa explosión repentina proyecta fragmentos rotos de distintos tamaños del recipiente a considerables distancias.  \n",
    "Precisamente ésta es una prueba de confirmación de una BLEVE. \n",
    "\n",
    "Normalmente las BLEVE se originan por un incendio externo que incide sobre la superficie de un recipiente a presión, especialmente por encima del nivel líquido, debilitando su resistencia y acabando en una rotura repentina del mismo, dando lugar a un escape súbito del contenido, que cambia masivamente al estado de vapor, el cual si es inflamable da lugar a la conocida bola de fuego (fireball).\n",
    "\n",
    "Las concecuencias de una BLEVE de un deposito que almacena bajo presión un líquido inflamable son:\n",
    "\n",
    "\n",
    "\n",
    "\n"
   ]
  },
  {
   "cell_type": "markdown",
   "metadata": {},
   "source": [
    "#### Sobrepresion por las ondas expansivas."
   ]
  },
  {
   "cell_type": "markdown",
   "metadata": {},
   "source": [
    " Para determinar la sobrepresión producida por la onda de presión debida a la explosión del deposito a una distancia dada. Los Modelos que se pueden emplear son TNT equivalente, TNO multienergía o de Brode."
   ]
  },
  {
   "cell_type": "markdown",
   "metadata": {},
   "source": [
    "#### Proyección de fragmentos del recipiente."
   ]
  },
  {
   "cell_type": "markdown",
   "metadata": {},
   "source": [
    "La onda de presión que se genera como consecuencia de la explosión, provoca la destrucción del recipiente en un número determinado de fragmentos, según las características físicas de resistencia del recipiente. Parte de la energía generada en la explosión se utliliza para la generación de ondas de presión y parte para la proyección de esos fragmentos, generalmente la fracciones de energía son un 80% para la generación de ondas de presión y un 20% para proyección.\n",
    "\n",
    "El  Número de fragmentos se calcula como:"
   ]
  },
  {
   "cell_type": "markdown",
   "metadata": {},
   "source": [
    "- Ecuación 1.  $No.fragmentos=-3.77+0.0096 V$"
   ]
  },
  {
   "cell_type": "markdown",
   "metadata": {},
   "source": [
    "V=Volumen del recipiente\n",
    "\n",
    "Rango de V:[700-2500]m^3"
   ]
  },
  {
   "cell_type": "markdown",
   "metadata": {},
   "source": [
    "Ecuaciones empiricas para determinar la duración , el diámetro y la altura de la bola de fuego Pitblado publicó correlaciones y comparaciones del diámetro del BLEVE  de bola de fuego en función de la masa liberada. La formula de TNO ajusta bien a los datos observados, pero hay dispersión substancial en los datos de origen. Todos los modelos usan una fuerte correlación entre el diámetro del BLEVE y la duración de la masa. Usualmente las formulas para el BLEVE son parametros físicos:\n"
   ]
  },
  {
   "cell_type": "markdown",
   "metadata": {},
   "source": [
    "Diámetro máximo de la bola de fuego\n",
    "- Ecuación 2. $D_{max}=5.8 M^{1/3}$"
   ]
  },
  {
   "cell_type": "markdown",
   "metadata": {},
   "source": [
    "Duración de combustión de la bola de fuego.\n",
    "- Ecuación 3. $t_{BLEVE}=0.45 M^{1/3}$\n",
    "\n",
    "Para $M<30000 Kg$\n",
    "\n",
    "- Ecuación 4. $t_{BLEVE}=2.6 M^{1/6}$\n",
    "\n",
    "Para $M>30000 Kg$"
   ]
  },
  {
   "cell_type": "markdown",
   "metadata": {},
   "source": [
    "Altura del centro de la bola de fuego:\n"
   ]
  },
  {
   "cell_type": "markdown",
   "metadata": {},
   "source": [
    "- Ecuación 5. $H_{BLEVE}=0.75 D_{max}$"
   ]
  },
  {
   "cell_type": "markdown",
   "metadata": {},
   "source": [
    "Diametro inicial a nivel del suelo"
   ]
  },
  {
   "cell_type": "markdown",
   "metadata": {},
   "source": [
    " - Ecuación 6. $D_{inicial}=1.3 D_{max}$"
   ]
  },
  {
   "cell_type": "markdown",
   "metadata": {},
   "source": [
    "#### Radiación térmica."
   ]
  },
  {
   "cell_type": "markdown",
   "metadata": {},
   "source": [
    "Se utilizan cuatro parametros para determinar lo riesgos de la radiación térmica de la bola de fuego, los cuales son:masa de combustible,  duración, poder térmico emitido, diámetro de la bola de fuego.La radiación depende de la distribución de la temperatura de la flama, la composición de los gases en la vecindad, la geometría, la absorción de la radiación y la geometría del receptor a la bola de fuego. Johnson encontró un promedio de radiación superficial emitida entre320 a 375 kW/m^2 y duración de 4.5 a 9.2 s y diámetro de 56 a 88 m.\n",
    "\n",
    "El flux  de radiación emitida  está representa por la ley Stefan-Boltzmann."
   ]
  },
  {
   "cell_type": "markdown",
   "metadata": {},
   "source": [
    "- Ecuación 7. $E_{max}=\\sigma T_{f}^4$\n",
    "\n",
    "Donde:\n",
    "\n",
    "\n",
    "   - $E_{max}$=Flux de radiación térmica\n",
    "   - $\\sigma$  =la constante de Stefan-Boltzmann  5.67x10 -11 kW / m^2 K^4\n",
    "   - $T_f$ = Temperatura absoluta de la radiación"
   ]
  },
  {
   "cell_type": "markdown",
   "metadata": {},
   "source": [
    "Esta ecuación aplica para cuerpos negros y proporciona el flux máximo de radiación. Para condiciones reales , el poder emisivo esta dado por:"
   ]
  },
  {
   "cell_type": "markdown",
   "metadata": {},
   "source": [
    "- Ecuación 8. $E=\\epsilon E_{max}$\n",
    "\n",
    "Donde:\n",
    "\n",
    "\n",
    "   - $E$=Flux de energía emitido\n",
    "   - $\\epsilon$  =la emisividad"
   ]
  },
  {
   "cell_type": "markdown",
   "metadata": {},
   "source": [
    "Los valores de  emisividad para condiciones reales, generalmente es menor que la unidad.\n",
    "\n",
    "Para determinar la emisividad usa la ley de Beer"
   ]
  },
  {
   "cell_type": "markdown",
   "metadata": {},
   "source": [
    "- Ecuación 9. $\\epsilon =1-\\lambda^{-kD}$\n",
    "\n",
    "Donde:\n",
    "\n",
    "\n",
    "   - $k$=Coeficiente de extinción"
   ]
  },
  {
   "cell_type": "markdown",
   "metadata": {},
   "source": [
    "La radiación térmica es calculado usualmente con la flux emitida en la superficie. \n",
    "\n",
    "La ecuación Stefan-Boltzmann requiere la temperatura de la flama. \n",
    "\n",
    "Roberts  y  Hymes proporcionan un estimado del flux de calor superficial basado en la fracción de radiación del calor de la combustión total."
   ]
  },
  {
   "cell_type": "markdown",
   "metadata": {},
   "source": [
    "- Ecuación 10. $E=\\frac{RMH_c}{\\pi D_{max}^2 t_{BLEVE}}$"
   ]
  },
  {
   "cell_type": "markdown",
   "metadata": {},
   "source": [
    "R puede tomar valores de 0.3 para recipientes con baja presión de seguridad y 0.4 con alta presión de seguridad. La ecuación para el flux de radiación recibido por el receptor a una distancia L es:"
   ]
  },
  {
   "cell_type": "markdown",
   "metadata": {},
   "source": [
    "- Ecuación 11. $E_r=\\frac{2.2 \\tau_a RH_cM^{2/3}}{4\\pi X_{C}^2}$"
   ]
  },
  {
   "cell_type": "markdown",
   "metadata": {},
   "source": [
    " La transmisividad atmosferica es un factor importante (ta). La radiación térmica es absorbida y dispersada por la atmosfera, estas causas reducen la radiación recibida por el receptor; se recomienda una correlación que considera la humedad."
   ]
  },
  {
   "cell_type": "markdown",
   "metadata": {},
   "source": [
    "- Ecuación 12. $\\tau=2.02(P_w X_s)^{-0.09}$"
   ]
  },
  {
   "cell_type": "markdown",
   "metadata": {},
   "source": [
    "La presión parcial del agua se tiene en función de la humedad relativa y temperatura."
   ]
  },
  {
   "cell_type": "markdown",
   "metadata": {},
   "source": [
    "- Ecuación 13. $P_w=1013.25  (RH) exp(14.4114-\\frac{5328}{Ta})$"
   ]
  },
  {
   "cell_type": "markdown",
   "metadata": {},
   "source": [
    "Otra ecuación empirica para el flux de radiación con correlación a una distancia L del receptor que  proviene del centro de la bola de fuego"
   ]
  },
  {
   "cell_type": "markdown",
   "metadata": {},
   "source": [
    "- Ecuación 14.$E_r=\\frac{8.28x10^5M^{0.771}}{X_C^2}$"
   ]
  },
  {
   "cell_type": "markdown",
   "metadata": {},
   "source": [
    "La radiación recibida por el receptor es:"
   ]
  },
  {
   "cell_type": "markdown",
   "metadata": {},
   "source": [
    "- Ecuación 15. $E_r=\\tau_a EF_{21}$"
   ]
  },
  {
   "cell_type": "markdown",
   "metadata": {},
   "source": [
    "En general el centro de la bola de fuego tiene una altura(H) arriba del suelo. La distancia L es a nivel del suelo desde abajo del centro de la bola de fuego hasta donde esta el receptor. \n",
    "\n",
    "Para una superficie horizontal:\n"
   ]
  },
  {
   "cell_type": "markdown",
   "metadata": {},
   "source": [
    "- Ecuación 16. $F_{21}=\\frac{H(D/2)^2}{(L^2+H^2)^{3/2}}$"
   ]
  },
  {
   "cell_type": "markdown",
   "metadata": {},
   "source": [
    "Cuando la distancia L es mayor que el radio de la bola de fuego, el factor es de una superficie  vertical."
   ]
  },
  {
   "cell_type": "markdown",
   "metadata": {},
   "source": [
    "- Ecuación 17. $F_{21}=\\frac{L(D/2)^2}{(L^2+H^2)^{3/2}}$"
   ]
  },
  {
   "cell_type": "markdown",
   "metadata": {},
   "source": [
    "## Resultados\n"
   ]
  },
  {
   "cell_type": "code",
   "execution_count": 3,
   "metadata": {},
   "outputs": [],
   "source": [
    "#Datos\n",
    "M=100000 #kg\n",
    "Pw=2810 #Pa\n",
    "R=0.3\n",
    "L=200 #m\n",
    "Hc= 46350 #KJ/Kg"
   ]
  },
  {
   "cell_type": "markdown",
   "metadata": {},
   "source": [
    "Diámetro máximo de la bola de fuego"
   ]
  },
  {
   "cell_type": "code",
   "execution_count": 4,
   "metadata": {},
   "outputs": [
    {
     "name": "stdout",
     "output_type": "stream",
     "text": [
      "D máximo= 269.2122 m\n"
     ]
    }
   ],
   "source": [
    "import numpy as np\n",
    "Dmax=5.8*M**(1/3)\n",
    "print(\"D máximo= \"+ str(round(Dmax,4))+\" m\")"
   ]
  },
  {
   "cell_type": "markdown",
   "metadata": {},
   "source": [
    "Duración de combustión de la bola de fuego."
   ]
  },
  {
   "cell_type": "code",
   "execution_count": 8,
   "metadata": {},
   "outputs": [
    {
     "name": "stdout",
     "output_type": "stream",
     "text": [
      "t BLEVE= 17.71 s\n"
     ]
    }
   ],
   "source": [
    "tbleve=2.6*M**(1/6)\n",
    "print(\"t BLEVE= \"+ str(round(tbleve,2))+\" s\")\n"
   ]
  },
  {
   "cell_type": "markdown",
   "metadata": {},
   "source": [
    "Altura de la bola de fuego:"
   ]
  },
  {
   "cell_type": "code",
   "execution_count": 9,
   "metadata": {},
   "outputs": [
    {
     "name": "stdout",
     "output_type": "stream",
     "text": [
      "H BLEVE= 201.91 m\n"
     ]
    }
   ],
   "source": [
    "Hbleve=Dmax*0.75\n",
    "print(\"H BLEVE= \"+ str(round(Hbleve,2))+\" m\")\n"
   ]
  },
  {
   "cell_type": "code",
   "execution_count": 10,
   "metadata": {},
   "outputs": [
    {
     "name": "stdout",
     "output_type": "stream",
     "text": [
      "D inicial= 349.98 m\n"
     ]
    }
   ],
   "source": [
    "Dinicial=1.3*Dmax\n",
    "print(\"D inicial= \"+ str(round(Dinicial,2))+\" m\")"
   ]
  },
  {
   "cell_type": "markdown",
   "metadata": {},
   "source": [
    "Flux de Radiación emitido en la superficie"
   ]
  },
  {
   "cell_type": "code",
   "execution_count": 12,
   "metadata": {},
   "outputs": [
    {
     "name": "stdout",
     "output_type": "stream",
     "text": [
      "E= 344.77 kJ/m^2  =  kW/m^2\n"
     ]
    }
   ],
   "source": [
    "E=(R*M*Hc)/(np.pi*tbleve*(Dmax)**2)\n",
    "print(\"E= \"+ str(round(E,2))+\" kJ/m^2  =  kW/m^2\")"
   ]
  },
  {
   "cell_type": "markdown",
   "metadata": {},
   "source": [
    "Factor de visión horizontal"
   ]
  },
  {
   "cell_type": "code",
   "execution_count": 14,
   "metadata": {},
   "outputs": [
    {
     "name": "stdout",
     "output_type": "stream",
     "text": [
      "F21= 0.158 m\n"
     ]
    }
   ],
   "source": [
    "F21=(L*(Dmax/2)**2)/(((L)**2+(Hbleve)**2)**(3/2))\n",
    "print(\"F21= \"+ str(round(F21,3))+\" m\")"
   ]
  },
  {
   "cell_type": "markdown",
   "metadata": {},
   "source": [
    "La distancia de la superficie del flama al receptor"
   ]
  },
  {
   "cell_type": "code",
   "execution_count": 16,
   "metadata": {},
   "outputs": [
    {
     "name": "stdout",
     "output_type": "stream",
     "text": [
      "Xs = 149.59 m\n"
     ]
    }
   ],
   "source": [
    "Xs=((Hbleve**2+L**2)**(1/2))-((1/2)*Dmax)\n",
    "print(\"Xs = \"+ str(round(Xs,3))+\" m\")"
   ]
  },
  {
   "cell_type": "markdown",
   "metadata": {},
   "source": [
    "Transmitancia:"
   ]
  },
  {
   "cell_type": "code",
   "execution_count": 17,
   "metadata": {},
   "outputs": [
    {
     "name": "stdout",
     "output_type": "stream",
     "text": [
      "Ta = 0.63 \n"
     ]
    }
   ],
   "source": [
    "ta=2.02*(Pw*Xs)**(-0.09)\n",
    "print(\"Ta = \"+ str(round(ta,3))+\" \")"
   ]
  },
  {
   "cell_type": "markdown",
   "metadata": {},
   "source": [
    "Radiación recibido por el receptor"
   ]
  },
  {
   "cell_type": "code",
   "execution_count": 18,
   "metadata": {},
   "outputs": [
    {
     "name": "stdout",
     "output_type": "stream",
     "text": [
      "Ta = 34.281 kW/m^2\n"
     ]
    }
   ],
   "source": [
    "Er=F21*ta*E\n",
    "print(\"Ta = \"+ str(round(Er,3))+\" kW/m^2\")"
   ]
  },
  {
   "cell_type": "markdown",
   "metadata": {},
   "source": [
    "Distancia del centro de la  bola al receptor:"
   ]
  },
  {
   "cell_type": "code",
   "execution_count": 19,
   "metadata": {},
   "outputs": [
    {
     "name": "stdout",
     "output_type": "stream",
     "text": [
      "Xc = 284.196 m\n"
     ]
    }
   ],
   "source": [
    "Xc=np.sqrt(Hbleve**2+L**2)\n",
    "print(\"Xc = \"+ str(round(Xc,3))+\" m\")"
   ]
  },
  {
   "cell_type": "markdown",
   "metadata": {},
   "source": [
    "Flux de radiación recibido por el receptor a una distancia L"
   ]
  },
  {
   "cell_type": "code",
   "execution_count": 21,
   "metadata": {},
   "outputs": [
    {
     "name": "stdout",
     "output_type": "stream",
     "text": [
      "Er = 40.899 kW/m^2\n"
     ]
    }
   ],
   "source": [
    "Er2=(2.2*ta*Hc*R*(M**(2/3)))/(4*np.pi*(Xc**2))\n",
    "print(\"Er = \"+ str(round(Er2,3))+\" kW/m^2\")"
   ]
  },
  {
   "cell_type": "markdown",
   "metadata": {},
   "source": [
    "Flux de radiación a una distancia L del receptor que proviene del centro de la bola de fuego"
   ]
  },
  {
   "cell_type": "code",
   "execution_count": 25,
   "metadata": {},
   "outputs": [
    {
     "name": "stdout",
     "output_type": "stream",
     "text": [
      "Er = 73.417 kW/m^2\n"
     ]
    }
   ],
   "source": [
    "Er3=((8.28*100000*(M**(0.771)))/(Xc**2))/1000\n",
    "print(\"Er = \"+ str(round(Er3,3))+\" kW/m^2\")"
   ]
  }
 ],
 "metadata": {
  "kernelspec": {
   "display_name": "Python 3",
   "language": "python",
   "name": "python3"
  },
  "language_info": {
   "codemirror_mode": {
    "name": "ipython",
    "version": 3
   },
   "file_extension": ".py",
   "mimetype": "text/x-python",
   "name": "python",
   "nbconvert_exporter": "python",
   "pygments_lexer": "ipython3",
   "version": "3.7.4"
  }
 },
 "nbformat": 4,
 "nbformat_minor": 2
}
