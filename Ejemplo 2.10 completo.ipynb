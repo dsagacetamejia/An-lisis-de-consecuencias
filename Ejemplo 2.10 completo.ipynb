{
 "cells": [
  {
   "cell_type": "markdown",
   "metadata": {},
   "source": [
    "# Evaporación de un charco\n"
   ]
  },
  {
   "cell_type": "markdown",
   "metadata": {},
   "source": [
    "## Modelo\n",
    "Este modelo estima la velocidad de vaporización de un charco de hexano líquido  de 100^2 m   a temperatura ambiente de 298K\n",
    "\n"
   ]
  },
  {
   "attachments": {
    "image.png": {
     "image/png": "[encoded data removed]"
    }
   },
   "cell_type": "markdown",
   "metadata": {},
   "source": [
    "![image.png](attachment:image.png)"
   ]
  },
  {
   "cell_type": "markdown",
   "metadata": {},
   "source": [
    "## Variables\n",
    "|Variable|Significado|Unidades|\n",
    "|------|------|------|\n",
    "|A|\t\tÁrea\t|\tm^2|\t\n",
    "|TL\t\t|Temperatura del líquido|\tK|\t\n",
    "|PM|\t\tPeso Molecular|\t\t\tkg/mol|\t\n",
    "|Psat\t\t|Presión de saturación del vapor\t|\tmmHg|\t\n",
    "|M0|\t\tPeso Molecular referdo al agua|kg/mol|\t\n",
    "|k0\t\t|Coeficiete de tranferencia de masa |\t\tcm/s|\t\n",
    "|Rg|\t\t|Constante de los gases\t|\tatm L/K mol|\t\n"
   ]
  },
  {
   "cell_type": "markdown",
   "metadata": {},
   "source": [
    "### Incógnitas\n",
    "|Variable|Significado|Unidades|\n",
    "|------|------|------|\n",
    "|kg|\t\tCoeficiente de transferencia de masa||\n",
    "|m\t|Velocidad de evaporación\t||\n"
   ]
  },
  {
   "cell_type": "markdown",
   "metadata": {},
   "source": [
    "### Consideraciones\n",
    "- El modelo es aplicable tanto para líquidos volátiles como para no volátiles\n",
    "- Para líquidos la transferencia de masa por evaporación\n",
    "\n",
    "\n",
    "\n",
    "\n",
    "\n"
   ]
  },
  {
   "cell_type": "markdown",
   "metadata": {},
   "source": [
    "## Desarrollo y ecuaciones"
   ]
  },
  {
   "cell_type": "markdown",
   "metadata": {},
   "source": [
    "#### Balance total de energía en un charco\n",
    "\n",
    "- Ecuación 1.  $mCp\\frac{dT}{dt} =H- Lm$\n"
   ]
  },
  {
   "cell_type": "markdown",
   "metadata": {},
   "source": [
    "#### Velocidad de Evaporación"
   ]
  },
  {
   "cell_type": "markdown",
   "metadata": {},
   "source": [
    "Para líquidos con punto normal de ebullición cerca o arriba de la temperatura ambiente, el mecanismo de evaporación es limitante, pero es significante si el área del charco es grande.\n",
    "Este modelo asume que la concentración de vapor en los alrededores del bulto en el gas es mucho menos que en la presión de saturación.\n",
    "\n",
    "- Ecuación 2. $m_{masa}=\\frac{MK_gAP_{sat}}{R_gTL}$"
   ]
  },
  {
   "cell_type": "markdown",
   "metadata": {},
   "source": [
    "#### Coeficiente de transferencia de masa"
   ]
  },
  {
   "cell_type": "markdown",
   "metadata": {},
   "source": [
    "Es necesario especificar el coeficiente de trandsferencia de masa (kg), se usa un material de referncia,  se estima el cambio en el coeficiente de transferencia de masa y el cambio del peso molecular, generalmente la sustancia de refencia es el agua.\n",
    "\n",
    "- Ecuación 3.  $k_g=k_0(\\frac{M_0}{M})^{\\frac{1}{3}}$"
   ]
  },
  {
   "cell_type": "markdown",
   "metadata": {},
   "source": [
    "## Resultados\n"
   ]
  },
  {
   "cell_type": "code",
   "execution_count": 1,
   "metadata": {},
   "outputs": [],
   "source": [
    "#Datos\n",
    "A=100\n",
    "TL=298\n",
    "PM=0.086\n",
    "Psat=151\n",
    "M0=0.018\n",
    "k0=0.83\n",
    "Rg=0.082"
   ]
  },
  {
   "cell_type": "markdown",
   "metadata": {},
   "source": [
    "Se calcula el coeficiente de tranferencia , utilizando el agua como sustancia de referencia "
   ]
  },
  {
   "cell_type": "code",
   "execution_count": 2,
   "metadata": {},
   "outputs": [
    {
     "name": "stdout",
     "output_type": "stream",
     "text": [
      "Coef. Transferencia (kg)= 0.49 cm/s\n"
     ]
    }
   ],
   "source": [
    "import numpy as np\n",
    "kg=k0*(M0/PM)**(1/3)\n",
    "print(\"Coef. Transferencia (kg)= \"+ str(round(kg,2))+\" cm/s\")"
   ]
  },
  {
   "cell_type": "markdown",
   "metadata": {},
   "source": [
    "#### Velocidad de evaporización"
   ]
  },
  {
   "cell_type": "code",
   "execution_count": 3,
   "metadata": {},
   "outputs": [
    {
     "name": "stdout",
     "output_type": "stream",
     "text": [
      "m masa= 124.052 Kg/h\n"
     ]
    }
   ],
   "source": [
    "m=(PM*kg*A*Psat)/(760*Rg*TL)\n",
    "print(\"m masa= \"+ str(round(m*3600,3))+\" Kg/h\")\n"
   ]
  },
  {
   "cell_type": "code",
   "execution_count": null,
   "metadata": {},
   "outputs": [],
   "source": []
  }
 ],
 "metadata": {
  "kernelspec": {
   "display_name": "Python 3",
   "language": "python",
   "name": "python3"
  },
  "language_info": {
   "codemirror_mode": {
    "name": "ipython",
    "version": 3
   },
   "file_extension": ".py",
   "mimetype": "text/x-python",
   "name": "python",
   "nbconvert_exporter": "python",
   "pygments_lexer": "ipython3",
   "version": "3.7.4"
  }
 },
 "nbformat": 4,
 "nbformat_minor": 2
}
