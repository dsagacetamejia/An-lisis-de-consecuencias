{
 "cells": [
  {
   "cell_type": "markdown",
   "metadata": {},
   "source": [
    "# Descarga a fuego externo \n"
   ]
  },
  {
   "cell_type": "markdown",
   "metadata": {},
   "source": [
    "## Modelo\n",
    "Determina la cantidad de gas relevado por una válvula de alivio para un tanque no aislado\n"
   ]
  },
  {
   "attachments": {
    "image.png": {
     "image/png": "[encoded data removed]"
    }
   },
   "cell_type": "markdown",
   "metadata": {},
   "source": [
    "![image.png](attachment:image.png)"
   ]
  },
  {
   "cell_type": "markdown",
   "metadata": {},
   "source": [
    "## Variables\n",
    "|Variable|Significado|Unidades|\n",
    "|------|------|------|\n",
    "|As|\t\tÁrea de superficie del recipiente|m^2|\t\t\n",
    "|$\\lambda$\t\t|Calor latente de vaporización\t\t|KJ/Kg|\n",
    "|F\t|\tfactor ambiental|\t1\t|\n",
    "\n"
   ]
  },
  {
   "cell_type": "markdown",
   "metadata": {},
   "source": [
    "### Incógnitas\n",
    "|Variable|Significado|Unidades|\n",
    "|------|------|------|\n",
    "|Qf|\t\tFlujo de calor||\t\t\n",
    "|m|\t\tVelocidad de descarga||\n"
   ]
  },
  {
   "cell_type": "markdown",
   "metadata": {},
   "source": [
    "### Consideraciones\n",
    "- El modelo es aplicable  sólo para flujos gaseosos\n",
    "- El modelo está basado en  sistemas no reactivos y tanques presurizados.\n",
    "- Los modelos estan dados por la NFPA (Asociación Nacional de Protección contra el Fuego)y API (Instituti Americano del Petroleo).\n",
    "\n",
    "\n"
   ]
  },
  {
   "cell_type": "markdown",
   "metadata": {},
   "source": [
    "## Desarrollo y ecuaciones"
   ]
  },
  {
   "cell_type": "markdown",
   "metadata": {},
   "source": [
    "Para tanques presurizados (LPG) considerado en la NFPA 58 el flux de calor esta basado en el área de superficie total del tanque, mejor dicho que el área de superficie mojada, aunque la pequeña tranferencia de calor ocurra a través de una porción no mojada.\n",
    "\n",
    "\n",
    "La experiencia ha indicado que esta aproximación  es satiafactoria para LPG, de cualquier modo sólo el metal en contacto con el vapor podría bajar rapidamente las condiciones de fuego externo y perder la fuerza de un Bleve. NFPA 58 cubre basicamente LGP con pesos moluculares entre los 30 y 58 Qf es el calor necesario que entra a través de las paredes del recipiente para un fuego externo .\n",
    "\n",
    "\n",
    "- Ecuación 1.  $Qf=34500 F As^{0.82}$\n"
   ]
  },
  {
   "cell_type": "markdown",
   "metadata": {},
   "source": [
    "Para la protección de agua en spray sobre toda la superficie del tanque   ( Diseñado por la NFPA 15   (1985) con densidad de 0.25 gpm/ft^2 o más ), F = 0.3\n",
    "\n",
    "Agua en spray con un buen drenaje F=0.15\n",
    "\n",
    "\n",
    "Para obtener  la descarga del gas en una válvula de seguridad.\n",
    "- Ecuación 2.$m=\\frac{Qf}{\\lambda}$ "
   ]
  },
  {
   "cell_type": "markdown",
   "metadata": {},
   "source": [
    "## Resultados\n"
   ]
  },
  {
   "cell_type": "code",
   "execution_count": 1,
   "metadata": {},
   "outputs": [],
   "source": [
    "#Datos\n",
    "As=5\n",
    "lam=333\n",
    "F=1\n"
   ]
  },
  {
   "cell_type": "markdown",
   "metadata": {},
   "source": [
    "Cálculo del Flujo de calor con Ec. 1, pero la ecuación requiere el área en ft^2"
   ]
  },
  {
   "cell_type": "code",
   "execution_count": 2,
   "metadata": {},
   "outputs": [
    {
     "name": "stdout",
     "output_type": "stream",
     "text": [
      "As= 53.82 ft^2 \n",
      "Qf= 906110.78 BTU/h \n"
     ]
    }
   ],
   "source": [
    "As=5*3.2808**2\n",
    "Qf=34500*F*As**0.82\n",
    "print(\"As= \"+str(round(As,2))+\" ft^2 \")\n",
    "print(\"Qf= \"+str(round(Qf,2))+\" BTU/h \")"
   ]
  },
  {
   "cell_type": "markdown",
   "metadata": {},
   "source": [
    "Para cálcular la velocidad de descarga necesitamos Qf (kj/s), ya que el calor latente de vaporización tiene unidades kj/kg"
   ]
  },
  {
   "cell_type": "code",
   "execution_count": 3,
   "metadata": {},
   "outputs": [
    {
     "name": "stdout",
     "output_type": "stream",
     "text": [
      "Qf= 265.49 KJ/s \n"
     ]
    }
   ],
   "source": [
    "Qf=Qf*0.000293\n",
    "print(\"Qf= \"+str(round(Qf,2))+\" KJ/s \")"
   ]
  },
  {
   "cell_type": "markdown",
   "metadata": {},
   "source": [
    "### Resultados"
   ]
  },
  {
   "cell_type": "markdown",
   "metadata": {},
   "source": [
    "Cálculo de la velocidad de descarga:"
   ]
  },
  {
   "cell_type": "code",
   "execution_count": 4,
   "metadata": {},
   "outputs": [
    {
     "name": "stdout",
     "output_type": "stream",
     "text": [
      "Flujo de salida = 0.7973 Kg/s\n"
     ]
    }
   ],
   "source": [
    "m=Qf/lam\n",
    "print(\"Flujo de salida = \"+ str(round(m,4))+ \" Kg/s\")\n"
   ]
  }
 ],
 "metadata": {
  "kernelspec": {
   "display_name": "Python 3",
   "language": "python",
   "name": "python3"
  },
  "language_info": {
   "codemirror_mode": {
    "name": "ipython",
    "version": 3
   },
   "file_extension": ".py",
   "mimetype": "text/x-python",
   "name": "python",
   "nbconvert_exporter": "python",
   "pygments_lexer": "ipython3",
   "version": "3.7.4"
  }
 },
 "nbformat": 4,
 "nbformat_minor": 2
}
