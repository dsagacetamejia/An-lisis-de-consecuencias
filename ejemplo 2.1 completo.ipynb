{
 "cells": [
  {
   "cell_type": "markdown",
   "metadata": {},
   "source": [
    "# Ejemplo 2.1: Descarga de líquido por un orificio en un tanque \n",
    "\n",
    "    \n",
    "\n",
    "    \n",
    "   \n",
    "   \n",
    "    "
   ]
  },
  {
   "cell_type": "markdown",
   "metadata": {},
   "source": [
    "## Modelo\n",
    "Este modelo determina la velocidad y el flujo másico de descarga de un líquido por un orificio.\n"
   ]
  },
  {
   "attachments": {
    "image.png": {
     "image/png": "[encoded data removed]"
    }
   },
   "cell_type": "markdown",
   "metadata": {},
   "source": [
    "\n",
    "![image.png](attachment:image.png)\n"
   ]
  },
  {
   "cell_type": "markdown",
   "metadata": {},
   "source": [
    "### Variables\n",
    "\n",
    "|Variable|Significado|Unidades|\n",
    "|------|------|------|\n",
    "|P1|Presión antes del orificio| Pa|\n",
    "|P2|Presión en el orificio|Pa|\n",
    "|Z2|Altura de la descarga |m|\n",
    "|Z1|Altura del líquido en el tanque |m|\n",
    "|V1|Velocidad inicial del líquido |m/s|\n",
    "|p|Densidad del líquido derramado |kg/m^3|\n",
    "|d|Diámetro |m|\n",
    "|$\\sum$ef|Pérdidas por fricción ||\n",
    "|Kf|Coeficiente de velocidad |0.5|\n",
    "|g|Aceleración de la gravedad |9.807 m/s^2|\n",
    "|gc|Constante gravitacional |1 kg*m/N*s^2|\n",
    "|HLF1|Factores de pérdidas de cabeza a la entrada |0.5|\n",
    "|HLF2|Factores de pérdidas de cabeza a la salida|1|\n",
    "\n",
    "\n"
   ]
  },
  {
   "cell_type": "markdown",
   "metadata": {},
   "source": [
    "### Incógnitas\n",
    "|Incógnitas|Significado|Unidades|\n",
    "|------|------|------|\n",
    "|V2|Velocidad final del líquido|m/s^2|\n",
    "|M|Flujo másico descargado|kg/s|\n",
    "|A|Área|m^2|\n"
   ]
  },
  {
   "cell_type": "markdown",
   "metadata": {},
   "source": [
    "\n",
    "### Consideraciones\n",
    "1. El Nre a través del orificio es mayor a 10 000, debido a esto los valores de HFLi están predeterminados\n",
    "2. Las perdidas por fricción solo se tiene a la entrada y a la salida del orificio"
   ]
  },
  {
   "cell_type": "markdown",
   "metadata": {},
   "source": [
    "### Desarrollo y ecuaciones\n",
    "1. Calculamos primeramente el área del orificio (Ecuación 1): $A= \\frac{1}{4} \\pi d^2$  "
   ]
  },
  {
   "cell_type": "markdown",
   "metadata": {},
   "source": [
    "2. Se tiene la ecuación de balance de Energia (Ecuación 2) : $\\frac{P_2-P_1}{p}+\\frac{g}{g_c}(Z_2-Z_1)+\\frac{1}{2g_c}(V_2^2-V_1^2)+\\sum ef+\\frac{W_s}{m}=0$         \n",
    "    - Se considera:\n",
    "    - V1=0    (Porque está en reposo)\n",
    "    - Ws=0    (No hay fuerza mecánica)\n"
   ]
  },
  {
   "cell_type": "markdown",
   "metadata": {},
   "source": [
    "3. Se simplifica la ecuación y se igualan términos (Ecuación 3) : $\\frac{P_2-P_1}{p}+\\frac{g}{g_c}(Z_2-Z_1)=-\\frac{1}{2g_c}V_2^2-\\sum ef $  \n"
   ]
  },
  {
   "cell_type": "markdown",
   "metadata": {},
   "source": [
    "4. Se calculan hp y hs.\n",
    "(Ecuación 4) :  $hp= \\frac{P_2-P_1}{p}$ ,\n",
    "(Ecuación 5) :  $hs= \\frac{g}{g_c}(Z_2-Z_1)$"
   ]
  },
  {
   "cell_type": "markdown",
   "metadata": {},
   "source": [
    "5. Las pérdidas por fricción se pueden cuantificar por la siguiente ecuación (Ecuación 6) :$ \\sum ef=K_f(\\frac{V_2^2}{2g_c}) $ "
   ]
  },
  {
   "cell_type": "markdown",
   "metadata": {},
   "source": [
    "6. Se determina la velocidad (Ecuación 7) :  $V_2=\\sqrt{\\frac{-hp-hs}{K_f}}$"
   ]
  },
  {
   "cell_type": "markdown",
   "metadata": {},
   "source": [
    "7. Se determina el flujo másico (Ecuación 8):  $M=pVA$"
   ]
  },
  {
   "cell_type": "markdown",
   "metadata": {},
   "source": [
    "### Ingrese sus datos"
   ]
  },
  {
   "cell_type": "markdown",
   "metadata": {},
   "source": [
    " Variables  \n",
    "- P1=10000\n",
    "- P2=0\n",
    "- Z2=0\n",
    "- Z1=2\n",
    "- V1=0\n",
    "- p=490\n",
    "- d=0.01\n",
    "- sumef=0"
   ]
  },
  {
   "cell_type": "code",
   "execution_count": 4,
   "metadata": {},
   "outputs": [
    {
     "name": "stdout",
     "output_type": "stream",
     "text": [
      "Ingrese Presión antes de orificio (Pa): 10000\n",
      "Ingrese Presión en el orificio (Pa): 0\n",
      "Ingrese altura de la descarga (m): 0\n",
      "Ingrese altura del líquido en el tanque (m): 2\n",
      "Velocidad inicial del líquido (m/s): 0\n",
      "Ingrese densidad del líquido derramado(Kg/m^3): 490\n",
      "Ingrese diámetro (m): 0.01\n",
      "Ingrese pérdidas por fricción (m): 0\n"
     ]
    }
   ],
   "source": [
    "\n",
    "    \n",
    "    P1=float(input(\"Ingrese Presión antes de orificio (Pa): \"))\n",
    "    P2=float(input(\"Ingrese Presión en el orificio (Pa): \"))\n",
    "    Z2=float(input(\"Ingrese altura de la descarga (m): \"))\n",
    "    Z1=float(input(\"Ingrese altura del líquido en el tanque (m): \"))\n",
    "    V1=float(input(\"Velocidad inicial del líquido (m/s): \"))\n",
    "    p=float(input(\"Ingrese densidad del líquido derramado(Kg/m^3): \"))\n",
    "    d=float(input(\"Ingrese diámetro (m): \"))\n",
    "    sumef=float(input(\"Ingrese pérdidas por fricción (m): \"))\n",
    "\n",
    "\n"
   ]
  },
  {
   "cell_type": "code",
   "execution_count": 5,
   "metadata": {},
   "outputs": [],
   "source": [
    "#Constantes\n",
    "g=9.807\n",
    "gc=1\n",
    "HLF1=0.5\n",
    "HLF2=1"
   ]
  },
  {
   "cell_type": "code",
   "execution_count": 6,
   "metadata": {},
   "outputs": [
    {
     "name": "stdout",
     "output_type": "stream",
     "text": [
      "A= 7.85e-05 m2\n"
     ]
    }
   ],
   "source": [
    "import numpy as np\n",
    "import math\n",
    "pi=math.pi\n",
    "A=(pi/4)*d**2  \n",
    "print(\"A= \"+ str(round(A,7)) +\" m2\")  #Aqui puedo meter un if (si tiene 10, redondea a 7)\n"
   ]
  },
  {
   "cell_type": "code",
   "execution_count": 7,
   "metadata": {},
   "outputs": [],
   "source": [
    "dhp=(P2-P1)/p"
   ]
  },
  {
   "cell_type": "code",
   "execution_count": 8,
   "metadata": {},
   "outputs": [],
   "source": [
    "dhs=g*(Z2-Z1)"
   ]
  },
  {
   "cell_type": "code",
   "execution_count": 9,
   "metadata": {},
   "outputs": [],
   "source": [
    "f=sumef+HLF1+HLF2\n",
    "Kf=0.5+f/2"
   ]
  },
  {
   "cell_type": "code",
   "execution_count": 10,
   "metadata": {},
   "outputs": [],
   "source": [
    "V2=np.sqrt((-dhp-dhs)/Kf)"
   ]
  },
  {
   "cell_type": "code",
   "execution_count": 11,
   "metadata": {},
   "outputs": [],
   "source": [
    "M=p*V2*A"
   ]
  },
  {
   "cell_type": "markdown",
   "metadata": {},
   "source": [
    "### Resultados\n"
   ]
  },
  {
   "cell_type": "code",
   "execution_count": 12,
   "metadata": {},
   "outputs": [
    {
     "name": "stdout",
     "output_type": "stream",
     "text": [
      "La velocidad de salida es: 5.66 m/s\n",
      "El flujo másico de salida es : 0.22 kg/s\n"
     ]
    }
   ],
   "source": [
    "print(\"La velocidad de salida es: \"+str(round(V2,2))+\" m/s\")\n",
    "print(\"El flujo másico de salida es : \"+str(round(M,2))+\" kg/s\")"
   ]
  },
  {
   "cell_type": "code",
   "execution_count": null,
   "metadata": {},
   "outputs": [],
   "source": []
  }
 ],
 "metadata": {
  "kernelspec": {
   "display_name": "Python 3",
   "language": "python",
   "name": "python3"
  },
  "language_info": {
   "codemirror_mode": {
    "name": "ipython",
    "version": 3
   },
   "file_extension": ".py",
   "mimetype": "text/x-python",
   "name": "python",
   "nbconvert_exporter": "python",
   "pygments_lexer": "ipython3",
   "version": "3.7.4"
  }
 },
 "nbformat": 4,
 "nbformat_minor": 2
}
