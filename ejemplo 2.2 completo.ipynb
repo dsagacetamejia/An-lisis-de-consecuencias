{
 "cells": [
  {
   "cell_type": "markdown",
   "metadata": {},
   "source": [
    "# Ejemplo 2.2: Trayectoria de un líquido descargado por un orificio\n",
    "\n",
    "\n",
    " \n",
    "\n",
    "    \n",
    "   \n",
    "   \n",
    "    "
   ]
  },
  {
   "cell_type": "markdown",
   "metadata": {},
   "source": [
    "### Modelo\n",
    "Este modelo determina la distancia máxima del chorro del tanque y en qué punto del tanque se tendrá la máxima descarga.\n"
   ]
  },
  {
   "attachments": {
    "image.png": {
     "image/png": "[encoded data removed]"
    }
   },
   "cell_type": "markdown",
   "metadata": {},
   "source": [
    "\n",
    "![image.png](attachment:image.png)\n",
    "\n"
   ]
  },
  {
   "attachments": {},
   "cell_type": "markdown",
   "metadata": {},
   "source": [
    "### Variables\n",
    "\n",
    "|Variable|Significado|Unidades|\n",
    "|------|------|------|\n",
    "|P1\t|\tPresión antes del orificio\t|Pa|\t\t\n",
    "|P2|\t\tPresión en el orificio\t|Pa|\t\t\n",
    "|Z2\t|\tAltura de la descarga|m|\t\t\t\n",
    "|V1|\t\tVelocidad inicial del líquido|m/s|\t\t\t\n",
    "|V2\t|\tVelocidad final del líquido\t|m/s|\t\t\n",
    "|Ws|\t\tTrabajo mecànico\t||\t\t\n",
    "|m|\t\tFlujo màsico\t||\t\t\n",
    "|t|\t\tTiempo\t||\t\t\n",
    "|$\\sum$ ef|\t\tPerdidas por fricción||\t\t\t\n",
    "|Z1|\t\tAltura del líquido en el tanque|m|\t\t\t\n",
    "|HLF1|\t\tFactores de perdidas de cabeza a la entrada\t\t|0.5|\t\n",
    "|HLF2|\t\tFactores de perdidas de cabeza a la salida\t\t|1|\t\n",
    "|$\\sum$ kf|\t\tSuma de perdidas por fricción\t\t|1.5|\t\n",
    "|g|\t\tAceleración de la gravedad\t\t|\tm/s^2|\n",
    "|gc|\t\tConstante gravitacional\t\t|\tkg.m/N.s^2|\n",
    "|Pg\t|\tPresión del líquido en el tanque\t\t|\tPa|\n",
    "|r|\t\tDensidad del líquido derramado\t\t|\tkg/m^3|\n",
    "|H|\t\tMáxima altura del líquido en el tanque\t\t|\tm|\n"
   ]
  },
  {
   "cell_type": "markdown",
   "metadata": {},
   "source": [
    "### Incógnitas\n",
    "|Incógnitas|Significado|Unidades|\n",
    "|------|------|------|\n",
    "|s|Distancia máxima de chorro|m|\n",
    "|h|Altura (orificio)|m|\n",
    "\n"
   ]
  },
  {
   "cell_type": "markdown",
   "metadata": {},
   "source": [
    "\n",
    "### Consideraciones\n",
    "1. El Nre a través del orificio es mayor a 10 000, debido a esto los valores de HFLi están predeterminados\n",
    "2. Las perdidas por fricción solo se tiene a la entrada y a la salida del orificio"
   ]
  },
  {
   "cell_type": "markdown",
   "metadata": {},
   "source": [
    "### Desarrollo y ecuaciones\n",
    "Para el cálculo de una distancia, s, y una aceleración constante (gravedad) se tiene: \n",
    "- Ecuación 1: $S= V_2  t$  "
   ]
  },
  {
   "cell_type": "markdown",
   "metadata": {},
   "source": [
    "Por lo que se debe obtener las expresiones de V2 y t\n",
    "\n",
    "Se tiene la ecuación de balance de Energía simplificada \n",
    "- Ecuación 2: $\\frac{P_2-P_1}{\\rho}+\\frac{g}{g_c}(Z_2-Z_1)+\\frac{1}{2g_c}(V_2^2-V_1^2)+\\sum ef+\\frac{W_s}{m}=0$         \n",
    "    - Se considera:\n",
    "    - V1=0    (Porque está en reposo)\n",
    "    - Ws=0    (No hay fuerza mecánica)\n"
   ]
  },
  {
   "cell_type": "markdown",
   "metadata": {},
   "source": [
    "Multiplicando Ecuacion 1 por gc \n",
    "- Ecuación 3 : $gc\\frac{(P_2-P_1)}{\\rho}+g(Z_2-Z_1)+\\frac{1}{2}V_2^2+gc\\sum ef =0 $  \n",
    "\n",
    "\n",
    "  \n",
    "  Ahora:\n",
    "  \n",
    "  \n",
    "  \n",
    "  - $P_2-P_1=P_g$\n",
    "  - $\\sum ef =\\sum kf $\n",
    "  - $Z_2=0$\n",
    "  - $Z_1=H-h$\n"
   ]
  },
  {
   "cell_type": "markdown",
   "metadata": {},
   "source": [
    "Sustituyendo y despejando V2: \n",
    "- Ecuación 4 :  $V_2= \\sqrt{-2(g_cP_g-g(H-h)+gc\\sum kf)}$"
   ]
  },
  {
   "cell_type": "markdown",
   "metadata": {},
   "source": [
    "Para obtener t se usa la ecuación de la acelaración de la gravedad: \n",
    "- Ecuación 5: $t=\\sqrt{\\frac{2h}{g}}$"
   ]
  },
  {
   "cell_type": "markdown",
   "metadata": {},
   "source": [
    "Sustitutendo ecuaciones 4 y 5 en 1:\n",
    "- Ecuación 6: $s= 2\\sqrt{-\\frac{g_c p_{gh}}{\\rho_g}-hH+h^2 - -\\frac{g_c \\sum kf }{g}}$"
   ]
  },
  {
   "cell_type": "markdown",
   "metadata": {},
   "source": [
    "Derivando la ecuación 5 respecto a h e igualando a cero para obtener el máximo:\n",
    "- Ecuación 7: $-\\frac{g_c P_g}{\\rho_g}-H+2h=0$"
   ]
  },
  {
   "cell_type": "markdown",
   "metadata": {},
   "source": [
    "Despejando h:\n",
    "- Ecuación 8: $h=\\frac{1}{2}(\\frac{g_c P_g}{\\rho_g}+H)$"
   ]
  },
  {
   "cell_type": "markdown",
   "metadata": {},
   "source": [
    "Donde h corresponde al punto del tanque donde se obtiene la distancia máxima.\n",
    "\n",
    "Para conocer la distancia máxima, s se sustituye la  7 y 4 en 1"
   ]
  },
  {
   "cell_type": "markdown",
   "metadata": {},
   "source": [
    "- Ecuación 9: $s=\\frac{(\\frac{g_c P_g}{\\rho_g})+H}{\\sqrt{1+\\sum kf}}$"
   ]
  },
  {
   "cell_type": "code",
   "execution_count": 5,
   "metadata": {},
   "outputs": [],
   "source": [
    "#Datos \n",
    "HLF1=0.5\n",
    "HLF2=1\n",
    "sumkf=1.5\n",
    "g=9.807#m/s^2\n",
    "gc=1 #kg.m/N.s^2\n",
    "Pg=10000 #Pa\n",
    "rho=490 #kg/m^3\n",
    "H=5 #m\n",
    "Z1=0 #m"
   ]
  },
  {
   "cell_type": "markdown",
   "metadata": {},
   "source": [
    "Se calcula en que punto se tiene la descarga máxima h"
   ]
  },
  {
   "cell_type": "code",
   "execution_count": 6,
   "metadata": {},
   "outputs": [
    {
     "name": "stdout",
     "output_type": "stream",
     "text": [
      "h= 1.04 m\n"
     ]
    }
   ],
   "source": [
    "import numpy as np\n",
    "import math\n",
    "pi=math.pi\n",
    "h=0.5*((gc*Pg/g/rho)+Z1) \n",
    "print(\"h= \"+ str(round(h,2)) +\" m\") \n"
   ]
  },
  {
   "cell_type": "markdown",
   "metadata": {},
   "source": [
    "Se calcula distancia de la descarga máxima s"
   ]
  },
  {
   "cell_type": "code",
   "execution_count": 7,
   "metadata": {},
   "outputs": [
    {
     "name": "stdout",
     "output_type": "stream",
     "text": [
      "s= 1.32 m\n"
     ]
    }
   ],
   "source": [
    "s=(Z1+(gc*Pg/rho/g))/np.sqrt(1+sumkf)\n",
    "print(\"s= \"+ str(round(s,2)) +\" m\") "
   ]
  },
  {
   "cell_type": "markdown",
   "metadata": {},
   "source": [
    "### Resultados\n"
   ]
  },
  {
   "cell_type": "code",
   "execution_count": 8,
   "metadata": {},
   "outputs": [
    {
     "name": "stdout",
     "output_type": "stream",
     "text": [
      "El punto de descarga máxima es: 1.04 m\n",
      "La distancia de descarga máxima es : 1.32 m\n"
     ]
    }
   ],
   "source": [
    "print(\"El punto de descarga máxima es: \"+str(round(h,2))+\" m\")\n",
    "print(\"La distancia de descarga máxima es : \"+str(round(s,2))+\" m\")"
   ]
  }
 ],
 "metadata": {
  "kernelspec": {
   "display_name": "Python 3",
   "language": "python",
   "name": "python3"
  },
  "language_info": {
   "codemirror_mode": {
    "name": "ipython",
    "version": 3
   },
   "file_extension": ".py",
   "mimetype": "text/x-python",
   "name": "python",
   "nbconvert_exporter": "python",
   "pygments_lexer": "ipython3",
   "version": "3.7.4"
  }
 },
 "nbformat": 4,
 "nbformat_minor": 2
}
